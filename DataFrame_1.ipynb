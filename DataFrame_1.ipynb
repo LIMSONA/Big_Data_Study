{
  "nbformat": 4,
  "nbformat_minor": 0,
  "metadata": {
    "colab": {
      "name": "DataFrame_1.ipynb",
      "provenance": [],
      "mount_file_id": "1gVzQaqUpGh04liOSQG8tSHUZLBibzED0",
      "authorship_tag": "ABX9TyPSGk/jkt12WgIg3vJmM5we",
      "include_colab_link": true
    },
    "kernelspec": {
      "name": "python3",
      "display_name": "Python 3"
    },
    "language_info": {
      "name": "python"
    }
  },
  "cells": [
    {
      "cell_type": "markdown",
      "metadata": {
        "id": "view-in-github",
        "colab_type": "text"
      },
      "source": [
        "<a href=\"https://colab.research.google.com/github/LIMSONA/Machine_learning_study/blob/main/DataFrame_1.ipynb\" target=\"_parent\"><img src=\"https://colab.research.google.com/assets/colab-badge.svg\" alt=\"Open In Colab\"/></a>"
      ]
    },
    {
      "cell_type": "code",
      "metadata": {
        "id": "jnRogLgzuT2o"
      },
      "source": [
        "import os\n",
        "import pandas as pd"
      ],
      "execution_count": 18,
      "outputs": []
    },
    {
      "cell_type": "code",
      "metadata": {
        "colab": {
          "base_uri": "https://localhost:8080/"
        },
        "id": "5cF4xLvNwlsF",
        "outputId": "a3a96731-85ec-4ca6-eacc-c2ca70a7ce45"
      },
      "source": [
        "os.listdir('./drive/MyDrive/파이썬~머신러닝/machine_learning_data')"
      ],
      "execution_count": 12,
      "outputs": [
        {
          "output_type": "execute_result",
          "data": {
            "text/plain": [
              "['.ipynb_checkpoints',\n",
              " 'test.csv',\n",
              " 'train.csv',\n",
              " 'friend.csv',\n",
              " 'new_friend.csv',\n",
              " 'new_friend_index_true.csv',\n",
              " 'abalone.data',\n",
              " 'train_data.csv',\n",
              " 'Naver_opinion.txt',\n",
              " 'dolphine.jpg',\n",
              " 'NanumBarunGothic.ttf',\n",
              " 'wc_result.png',\n",
              " 'wc_result1.png',\n",
              " 'test_csv.txt',\n",
              " 'crawlings__210510.log']"
            ]
          },
          "metadata": {},
          "execution_count": 12
        }
      ]
    },
    {
      "cell_type": "code",
      "metadata": {
        "id": "TKcYUSRqyDjs"
      },
      "source": [
        "# 데이터 폴더 src 변수 할당\n",
        "base_src='./drive/MyDrive/파이썬~머신러닝/machine_learning_data/'\n",
        "\n",
        "#friend.csv 파일 src 변수 할당\n",
        "friend_src= base_src + '/friend.csv'"
      ],
      "execution_count": 15,
      "outputs": []
    },
    {
      "cell_type": "code",
      "metadata": {
        "id": "ClElBvrEyi51"
      },
      "source": [
        "#pandas의 read_csv  ->데이터 불러오기\n",
        "\n",
        "df=pd.read_csv(friend_src, encoding='utf-8')"
      ],
      "execution_count": 20,
      "outputs": []
    },
    {
      "cell_type": "code",
      "metadata": {
        "colab": {
          "base_uri": "https://localhost:8080/",
          "height": 204
        },
        "id": "ughK7XUrzJKc",
        "outputId": "e4ef3a89-2d1e-4bde-bec6-31ba2c94b220"
      },
      "source": [
        "#head() 데이터를 읽어보기\n",
        "df.head()"
      ],
      "execution_count": 21,
      "outputs": [
        {
          "output_type": "execute_result",
          "data": {
            "text/html": [
              "<div>\n",
              "<style scoped>\n",
              "    .dataframe tbody tr th:only-of-type {\n",
              "        vertical-align: middle;\n",
              "    }\n",
              "\n",
              "    .dataframe tbody tr th {\n",
              "        vertical-align: top;\n",
              "    }\n",
              "\n",
              "    .dataframe thead th {\n",
              "        text-align: right;\n",
              "    }\n",
              "</style>\n",
              "<table border=\"1\" class=\"dataframe\">\n",
              "  <thead>\n",
              "    <tr style=\"text-align: right;\">\n",
              "      <th></th>\n",
              "      <th>name</th>\n",
              "      <th>age</th>\n",
              "      <th>job</th>\n",
              "    </tr>\n",
              "  </thead>\n",
              "  <tbody>\n",
              "    <tr>\n",
              "      <th>0</th>\n",
              "      <td>John</td>\n",
              "      <td>20</td>\n",
              "      <td>student</td>\n",
              "    </tr>\n",
              "    <tr>\n",
              "      <th>1</th>\n",
              "      <td>Jenny</td>\n",
              "      <td>30</td>\n",
              "      <td>developer</td>\n",
              "    </tr>\n",
              "    <tr>\n",
              "      <th>2</th>\n",
              "      <td>Nate</td>\n",
              "      <td>30</td>\n",
              "      <td>teacher</td>\n",
              "    </tr>\n",
              "    <tr>\n",
              "      <th>3</th>\n",
              "      <td>Julia</td>\n",
              "      <td>40</td>\n",
              "      <td>dentist</td>\n",
              "    </tr>\n",
              "    <tr>\n",
              "      <th>4</th>\n",
              "      <td>Brian</td>\n",
              "      <td>45</td>\n",
              "      <td>manager</td>\n",
              "    </tr>\n",
              "  </tbody>\n",
              "</table>\n",
              "</div>"
            ],
            "text/plain": [
              "    name  age        job\n",
              "0   John   20    student\n",
              "1  Jenny   30  developer\n",
              "2   Nate   30    teacher\n",
              "3  Julia   40    dentist\n",
              "4  Brian   45    manager"
            ]
          },
          "metadata": {},
          "execution_count": 21
        }
      ]
    }
  ]
}