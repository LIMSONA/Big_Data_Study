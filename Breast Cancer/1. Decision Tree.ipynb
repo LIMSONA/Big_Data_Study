{
 "cells": [
  {
   "cell_type": "markdown",
   "id": "fb94fe46",
   "metadata": {},
   "source": [
    "# Decision Tree 의사결정나무"
   ]
  },
  {
   "cell_type": "markdown",
   "id": "3451a547",
   "metadata": {},
   "source": [
    "* https://archive.ics.uci.edu/ml/datasets/Breast+Cancer+Wisconsin+%28Diagnostic%29에 소개된 데이터셋!\n",
    "* 유방암 진단 데이터셋 (암세포 특성을 나타내는 열과 악성/약성 여부가 있는 열로 나타냄)"
   ]
  },
  {
   "cell_type": "markdown",
   "id": "f8a4e9aa",
   "metadata": {},
   "source": [
    "# 라이브러리 불러오기"
   ]
  },
  {
   "cell_type": "code",
   "execution_count": 1,
   "id": "8d60c14c",
   "metadata": {},
   "outputs": [],
   "source": [
    "import pandas as pd\n",
    "import numpy as np\n",
    "import matplotlib.pyplot as plt\n",
    "import seaborn as sns"
   ]
  },
  {
   "cell_type": "code",
   "execution_count": 2,
   "id": "d5b70bcc",
   "metadata": {},
   "outputs": [],
   "source": [
    "# 안내 메세지 안뜨게\n",
    "import warnings\n",
    "warnings.filterwarnings(action='ignore')"
   ]
  },
  {
   "cell_type": "markdown",
   "id": "9436bf7a",
   "metadata": {},
   "source": [
    "# 데이터 불러오기"
   ]
  },
  {
   "cell_type": "code",
   "execution_count": 3,
   "id": "068e1373",
   "metadata": {},
   "outputs": [],
   "source": [
    "url = 'https://archive.ics.uci.edu/ml/machine-learning-databases/breast-cancer-wisconsin/breast-cancer-wisconsin.data'"
   ]
  },
  {
   "cell_type": "code",
   "execution_count": 21,
   "id": "db9d6e89",
   "metadata": {},
   "outputs": [],
   "source": [
    "df = pd.read_csv(url, header= None)"
   ]
  },
  {
   "cell_type": "code",
   "execution_count": 22,
   "id": "5255fc4f",
   "metadata": {},
   "outputs": [],
   "source": [
    "# 열 이름 지정하기\n",
    "df.columns = ['id', 'clump', 'cell_size', 'cell_shape', 'adhesion', 'epithlial',\n",
    "              'bare_nuclei', 'chromatin', 'normal_nucleoli', 'mitoses', 'class']"
   ]
  },
  {
   "cell_type": "markdown",
   "id": "1ace1f2b",
   "metadata": {},
   "source": [
    "# 데이터 살펴보기"
   ]
  },
  {
   "cell_type": "code",
   "execution_count": 23,
   "id": "214dde86",
   "metadata": {
    "scrolled": true
   },
   "outputs": [
    {
     "data": {
      "text/html": [
       "<div>\n",
       "<style scoped>\n",
       "    .dataframe tbody tr th:only-of-type {\n",
       "        vertical-align: middle;\n",
       "    }\n",
       "\n",
       "    .dataframe tbody tr th {\n",
       "        vertical-align: top;\n",
       "    }\n",
       "\n",
       "    .dataframe thead th {\n",
       "        text-align: right;\n",
       "    }\n",
       "</style>\n",
       "<table border=\"1\" class=\"dataframe\">\n",
       "  <thead>\n",
       "    <tr style=\"text-align: right;\">\n",
       "      <th></th>\n",
       "      <th>id</th>\n",
       "      <th>clump</th>\n",
       "      <th>cell_size</th>\n",
       "      <th>cell_shape</th>\n",
       "      <th>adhesion</th>\n",
       "      <th>epithlial</th>\n",
       "      <th>bare_nuclei</th>\n",
       "      <th>chromatin</th>\n",
       "      <th>normal_nucleoli</th>\n",
       "      <th>mitoses</th>\n",
       "      <th>class</th>\n",
       "    </tr>\n",
       "  </thead>\n",
       "  <tbody>\n",
       "    <tr>\n",
       "      <th>0</th>\n",
       "      <td>1000025</td>\n",
       "      <td>5</td>\n",
       "      <td>1</td>\n",
       "      <td>1</td>\n",
       "      <td>1</td>\n",
       "      <td>2</td>\n",
       "      <td>1</td>\n",
       "      <td>3</td>\n",
       "      <td>1</td>\n",
       "      <td>1</td>\n",
       "      <td>2</td>\n",
       "    </tr>\n",
       "    <tr>\n",
       "      <th>1</th>\n",
       "      <td>1002945</td>\n",
       "      <td>5</td>\n",
       "      <td>4</td>\n",
       "      <td>4</td>\n",
       "      <td>5</td>\n",
       "      <td>7</td>\n",
       "      <td>10</td>\n",
       "      <td>3</td>\n",
       "      <td>2</td>\n",
       "      <td>1</td>\n",
       "      <td>2</td>\n",
       "    </tr>\n",
       "    <tr>\n",
       "      <th>2</th>\n",
       "      <td>1015425</td>\n",
       "      <td>3</td>\n",
       "      <td>1</td>\n",
       "      <td>1</td>\n",
       "      <td>1</td>\n",
       "      <td>2</td>\n",
       "      <td>2</td>\n",
       "      <td>3</td>\n",
       "      <td>1</td>\n",
       "      <td>1</td>\n",
       "      <td>2</td>\n",
       "    </tr>\n",
       "    <tr>\n",
       "      <th>3</th>\n",
       "      <td>1016277</td>\n",
       "      <td>6</td>\n",
       "      <td>8</td>\n",
       "      <td>8</td>\n",
       "      <td>1</td>\n",
       "      <td>3</td>\n",
       "      <td>4</td>\n",
       "      <td>3</td>\n",
       "      <td>7</td>\n",
       "      <td>1</td>\n",
       "      <td>2</td>\n",
       "    </tr>\n",
       "    <tr>\n",
       "      <th>4</th>\n",
       "      <td>1017023</td>\n",
       "      <td>4</td>\n",
       "      <td>1</td>\n",
       "      <td>1</td>\n",
       "      <td>3</td>\n",
       "      <td>2</td>\n",
       "      <td>1</td>\n",
       "      <td>3</td>\n",
       "      <td>1</td>\n",
       "      <td>1</td>\n",
       "      <td>2</td>\n",
       "    </tr>\n",
       "  </tbody>\n",
       "</table>\n",
       "</div>"
      ],
      "text/plain": [
       "        id  clump  cell_size  cell_shape  adhesion  epithlial bare_nuclei  \\\n",
       "0  1000025      5          1           1         1          2           1   \n",
       "1  1002945      5          4           4         5          7          10   \n",
       "2  1015425      3          1           1         1          2           2   \n",
       "3  1016277      6          8           8         1          3           4   \n",
       "4  1017023      4          1           1         3          2           1   \n",
       "\n",
       "   chromatin  normal_nucleoli  mitoses  class  \n",
       "0          3                1        1      2  \n",
       "1          3                2        1      2  \n",
       "2          3                1        1      2  \n",
       "3          3                7        1      2  \n",
       "4          3                1        1      2  "
      ]
     },
     "execution_count": 23,
     "metadata": {},
     "output_type": "execute_result"
    }
   ],
   "source": [
    "df.head()"
   ]
  },
  {
   "cell_type": "code",
   "execution_count": 24,
   "id": "725b1f20",
   "metadata": {},
   "outputs": [
    {
     "name": "stdout",
     "output_type": "stream",
     "text": [
      "699\n",
      "645\n"
     ]
    }
   ],
   "source": [
    "# id의 경우 중복된것이 없는지 확인하기!\n",
    "\n",
    "print(len(df))\n",
    "print(df.id.nunique())"
   ]
  },
  {
   "cell_type": "markdown",
   "id": "bde71d4e",
   "metadata": {},
   "source": [
    "* 동일한 사람의 측정값이 속해있긴했지만! 중요한건 각 암세포 특성별 양성/악성의 여부니까 삭제하기로 하자!"
   ]
  },
  {
   "cell_type": "code",
   "execution_count": 25,
   "id": "d11ccd6a",
   "metadata": {},
   "outputs": [
    {
     "data": {
      "text/plain": [
       "(699, 11)"
      ]
     },
     "execution_count": 25,
     "metadata": {},
     "output_type": "execute_result"
    }
   ],
   "source": [
    "df.shape"
   ]
  },
  {
   "cell_type": "code",
   "execution_count": 26,
   "id": "47704130",
   "metadata": {
    "scrolled": true
   },
   "outputs": [
    {
     "name": "stdout",
     "output_type": "stream",
     "text": [
      "<class 'pandas.core.frame.DataFrame'>\n",
      "RangeIndex: 699 entries, 0 to 698\n",
      "Data columns (total 11 columns):\n",
      " #   Column           Non-Null Count  Dtype \n",
      "---  ------           --------------  ----- \n",
      " 0   id               699 non-null    int64 \n",
      " 1   clump            699 non-null    int64 \n",
      " 2   cell_size        699 non-null    int64 \n",
      " 3   cell_shape       699 non-null    int64 \n",
      " 4   adhesion         699 non-null    int64 \n",
      " 5   epithlial        699 non-null    int64 \n",
      " 6   bare_nuclei      699 non-null    object\n",
      " 7   chromatin        699 non-null    int64 \n",
      " 8   normal_nucleoli  699 non-null    int64 \n",
      " 9   mitoses          699 non-null    int64 \n",
      " 10  class            699 non-null    int64 \n",
      "dtypes: int64(10), object(1)\n",
      "memory usage: 60.2+ KB\n"
     ]
    }
   ],
   "source": [
    "df.info()"
   ]
  },
  {
   "cell_type": "markdown",
   "id": "de45cdb7",
   "metadata": {},
   "source": [
    "* bare_nuclei는 숫자형으로 바꾸기!"
   ]
  },
  {
   "cell_type": "code",
   "execution_count": 27,
   "id": "526763db",
   "metadata": {
    "scrolled": false
   },
   "outputs": [
    {
     "data": {
      "text/html": [
       "<div>\n",
       "<style scoped>\n",
       "    .dataframe tbody tr th:only-of-type {\n",
       "        vertical-align: middle;\n",
       "    }\n",
       "\n",
       "    .dataframe tbody tr th {\n",
       "        vertical-align: top;\n",
       "    }\n",
       "\n",
       "    .dataframe thead th {\n",
       "        text-align: right;\n",
       "    }\n",
       "</style>\n",
       "<table border=\"1\" class=\"dataframe\">\n",
       "  <thead>\n",
       "    <tr style=\"text-align: right;\">\n",
       "      <th></th>\n",
       "      <th>id</th>\n",
       "      <th>clump</th>\n",
       "      <th>cell_size</th>\n",
       "      <th>cell_shape</th>\n",
       "      <th>adhesion</th>\n",
       "      <th>epithlial</th>\n",
       "      <th>chromatin</th>\n",
       "      <th>normal_nucleoli</th>\n",
       "      <th>mitoses</th>\n",
       "      <th>class</th>\n",
       "    </tr>\n",
       "  </thead>\n",
       "  <tbody>\n",
       "    <tr>\n",
       "      <th>count</th>\n",
       "      <td>6.990000e+02</td>\n",
       "      <td>699.000000</td>\n",
       "      <td>699.000000</td>\n",
       "      <td>699.000000</td>\n",
       "      <td>699.000000</td>\n",
       "      <td>699.000000</td>\n",
       "      <td>699.000000</td>\n",
       "      <td>699.000000</td>\n",
       "      <td>699.000000</td>\n",
       "      <td>699.000000</td>\n",
       "    </tr>\n",
       "    <tr>\n",
       "      <th>mean</th>\n",
       "      <td>1.071704e+06</td>\n",
       "      <td>4.417740</td>\n",
       "      <td>3.134478</td>\n",
       "      <td>3.207439</td>\n",
       "      <td>2.806867</td>\n",
       "      <td>3.216023</td>\n",
       "      <td>3.437768</td>\n",
       "      <td>2.866953</td>\n",
       "      <td>1.589413</td>\n",
       "      <td>2.689557</td>\n",
       "    </tr>\n",
       "    <tr>\n",
       "      <th>std</th>\n",
       "      <td>6.170957e+05</td>\n",
       "      <td>2.815741</td>\n",
       "      <td>3.051459</td>\n",
       "      <td>2.971913</td>\n",
       "      <td>2.855379</td>\n",
       "      <td>2.214300</td>\n",
       "      <td>2.438364</td>\n",
       "      <td>3.053634</td>\n",
       "      <td>1.715078</td>\n",
       "      <td>0.951273</td>\n",
       "    </tr>\n",
       "    <tr>\n",
       "      <th>min</th>\n",
       "      <td>6.163400e+04</td>\n",
       "      <td>1.000000</td>\n",
       "      <td>1.000000</td>\n",
       "      <td>1.000000</td>\n",
       "      <td>1.000000</td>\n",
       "      <td>1.000000</td>\n",
       "      <td>1.000000</td>\n",
       "      <td>1.000000</td>\n",
       "      <td>1.000000</td>\n",
       "      <td>2.000000</td>\n",
       "    </tr>\n",
       "    <tr>\n",
       "      <th>25%</th>\n",
       "      <td>8.706885e+05</td>\n",
       "      <td>2.000000</td>\n",
       "      <td>1.000000</td>\n",
       "      <td>1.000000</td>\n",
       "      <td>1.000000</td>\n",
       "      <td>2.000000</td>\n",
       "      <td>2.000000</td>\n",
       "      <td>1.000000</td>\n",
       "      <td>1.000000</td>\n",
       "      <td>2.000000</td>\n",
       "    </tr>\n",
       "    <tr>\n",
       "      <th>50%</th>\n",
       "      <td>1.171710e+06</td>\n",
       "      <td>4.000000</td>\n",
       "      <td>1.000000</td>\n",
       "      <td>1.000000</td>\n",
       "      <td>1.000000</td>\n",
       "      <td>2.000000</td>\n",
       "      <td>3.000000</td>\n",
       "      <td>1.000000</td>\n",
       "      <td>1.000000</td>\n",
       "      <td>2.000000</td>\n",
       "    </tr>\n",
       "    <tr>\n",
       "      <th>75%</th>\n",
       "      <td>1.238298e+06</td>\n",
       "      <td>6.000000</td>\n",
       "      <td>5.000000</td>\n",
       "      <td>5.000000</td>\n",
       "      <td>4.000000</td>\n",
       "      <td>4.000000</td>\n",
       "      <td>5.000000</td>\n",
       "      <td>4.000000</td>\n",
       "      <td>1.000000</td>\n",
       "      <td>4.000000</td>\n",
       "    </tr>\n",
       "    <tr>\n",
       "      <th>max</th>\n",
       "      <td>1.345435e+07</td>\n",
       "      <td>10.000000</td>\n",
       "      <td>10.000000</td>\n",
       "      <td>10.000000</td>\n",
       "      <td>10.000000</td>\n",
       "      <td>10.000000</td>\n",
       "      <td>10.000000</td>\n",
       "      <td>10.000000</td>\n",
       "      <td>10.000000</td>\n",
       "      <td>4.000000</td>\n",
       "    </tr>\n",
       "  </tbody>\n",
       "</table>\n",
       "</div>"
      ],
      "text/plain": [
       "                 id       clump   cell_size  cell_shape    adhesion  \\\n",
       "count  6.990000e+02  699.000000  699.000000  699.000000  699.000000   \n",
       "mean   1.071704e+06    4.417740    3.134478    3.207439    2.806867   \n",
       "std    6.170957e+05    2.815741    3.051459    2.971913    2.855379   \n",
       "min    6.163400e+04    1.000000    1.000000    1.000000    1.000000   \n",
       "25%    8.706885e+05    2.000000    1.000000    1.000000    1.000000   \n",
       "50%    1.171710e+06    4.000000    1.000000    1.000000    1.000000   \n",
       "75%    1.238298e+06    6.000000    5.000000    5.000000    4.000000   \n",
       "max    1.345435e+07   10.000000   10.000000   10.000000   10.000000   \n",
       "\n",
       "        epithlial   chromatin  normal_nucleoli     mitoses       class  \n",
       "count  699.000000  699.000000       699.000000  699.000000  699.000000  \n",
       "mean     3.216023    3.437768         2.866953    1.589413    2.689557  \n",
       "std      2.214300    2.438364         3.053634    1.715078    0.951273  \n",
       "min      1.000000    1.000000         1.000000    1.000000    2.000000  \n",
       "25%      2.000000    2.000000         1.000000    1.000000    2.000000  \n",
       "50%      2.000000    3.000000         1.000000    1.000000    2.000000  \n",
       "75%      4.000000    5.000000         4.000000    1.000000    4.000000  \n",
       "max     10.000000   10.000000        10.000000   10.000000    4.000000  "
      ]
     },
     "execution_count": 27,
     "metadata": {},
     "output_type": "execute_result"
    }
   ],
   "source": [
    "df.describe()"
   ]
  },
  {
   "cell_type": "code",
   "execution_count": 28,
   "id": "663370e8",
   "metadata": {},
   "outputs": [
    {
     "data": {
      "text/plain": [
       "<AxesSubplot:>"
      ]
     },
     "execution_count": 28,
     "metadata": {},
     "output_type": "execute_result"
    },
    {
     "data": {
      "image/png": "[encoded data removed]",
      "text/plain": [
       "<Figure size 864x432 with 1 Axes>"
      ]
     },
     "metadata": {
      "needs_background": "light"
     },
     "output_type": "display_data"
    }
   ],
   "source": [
    "#데이터의 범위가 비슷해보이지만, boxplot으로 보니 조금 정규화 시킬필요가 있음!\n",
    "\n",
    "df.iloc[:,1:-1].plot(kind=\"box\", layout=(1, 11), figsize=(12, 6))"
   ]
  },
  {
   "cell_type": "code",
   "execution_count": 29,
   "id": "e9988228",
   "metadata": {},
   "outputs": [
    {
     "data": {
      "text/plain": [
       "id                 0\n",
       "clump              0\n",
       "cell_size          0\n",
       "cell_shape         0\n",
       "adhesion           0\n",
       "epithlial          0\n",
       "bare_nuclei        0\n",
       "chromatin          0\n",
       "normal_nucleoli    0\n",
       "mitoses            0\n",
       "class              0\n",
       "dtype: int64"
      ]
     },
     "execution_count": 29,
     "metadata": {},
     "output_type": "execute_result"
    }
   ],
   "source": [
    "df.isnull().sum()"
   ]
  },
  {
   "cell_type": "code",
   "execution_count": 30,
   "id": "f098161a",
   "metadata": {},
   "outputs": [
    {
     "name": "stdout",
     "output_type": "stream",
     "text": [
      "id 열의 unique는???  \n",
      " [ 1000025  1002945  1015425  1016277  1017023  1017122  1018099  1018561\n",
      "  1033078  1035283  1036172  1041801  1043999  1044572  1047630  1048672\n",
      "  1049815  1050670  1050718  1054590  1054593  1056784  1057013  1059552\n",
      "  1065726  1066373  1066979  1067444  1070935  1071760  1072179  1074610\n",
      "  1075123  1079304  1080185  1081791  1084584  1091262  1096800  1099510\n",
      "  1100524  1102573  1103608  1103722  1105257  1105524  1106095  1106829\n",
      "  1108370  1108449  1110102  1110503  1110524  1111249  1112209  1113038\n",
      "  1113483  1113906  1115282  1115293  1116116  1116132  1116192  1116998\n",
      "  1117152  1118039  1120559  1121732  1121919  1123061  1124651  1125035\n",
      "  1126417  1131294  1132347  1133041  1133136  1136142  1137156  1143978\n",
      "  1147044  1147699  1147748  1148278  1148873  1152331  1155546  1156272\n",
      "  1156948  1157734  1158247  1160476  1164066  1165297  1165790  1165926\n",
      "  1166630  1166654  1167439  1167471  1168359  1168736  1169049  1170419\n",
      "  1170420  1171710  1171795  1171845  1172152  1173216  1173235  1173347\n",
      "  1173509  1173514  1173681  1174057  1174131  1174428  1175937  1176406\n",
      "  1176881  1177027  1177399  1177512  1178580  1179818  1180194  1180523\n",
      "  1180831  1181356  1182404  1182410  1183240  1183246  1183516  1183911\n",
      "  1183983  1184184  1184241  1184840  1185609  1185610  1187457  1187805\n",
      "  1188472  1189266  1189286  1190394  1190485  1192325  1193091  1193210\n",
      "  1193683  1196295  1196915  1197080  1197270  1197440  1197510  1197979\n",
      "  1197993  1198128  1198641  1199219  1199731  1199983  1200772  1200847\n",
      "  1200892  1200952  1201834  1201936  1202125  1202812  1203096  1204242\n",
      "  1204898  1205138  1205579  1206089  1206695  1206841  1207986  1208301\n",
      "  1210963  1211202  1212232  1212251  1212422  1213375  1213383  1214092\n",
      "  1214556  1214966  1216694  1216947  1217051  1217264  1218105  1218741\n",
      "  1218860  1219406  1219525  1219859  1220330  1221863  1222047  1222936\n",
      "  1223282  1223426  1223793  1223967  1224329  1225799  1226012  1226612\n",
      "  1227210  1227244  1227481  1228152  1228311  1230175  1230688  1231387\n",
      "  1231706  1232225  1236043  1241232  1241559  1241679  1242364  1243256\n",
      "  1270479  1276091  1277018   128059  1285531  1287775   144888   145447\n",
      "   167528   169356   183913   191250   242970   255644   263538   274137\n",
      "   303213   314428   320675   324427   385103   390840   411453   428903\n",
      "   431495   432809   434518   452264   456282   476903   486283   486662\n",
      "   488173   492268   508234   527363   529329   535331   543558   555977\n",
      "   560680   561477   563649   601265   606140   606722   616240    61634\n",
      "   625201    63375   635844   636130   640744   646904   653777   659642\n",
      "   666090   666942   667204   673637   684955   688033   691628   693702\n",
      "   704097   704168   706426   709287   718641   721482   730881   733639\n",
      "   733823   740492   743348   752904   756136   760001   760239    76389\n",
      "   764974   770066   785208   785615   792744   797327   798429   806423\n",
      "   809912   810104   814265   814911   822829   826923   830690   831268\n",
      "   832226   832567   836433   837082   846832   850831   855524   857774\n",
      "   859164   859350   866325   873549   877291   877943   888169   888523\n",
      "   896404   897172    95719   160296   342245   428598   492561   493452\n",
      "   521441   636437   640712   654244   657753   685977   805448   846423\n",
      "  1002504  1022257  1026122  1071084  1080233  1114570  1116715  1131411\n",
      "  1151734  1156017  1158405  1168278  1176187  1196263  1196475  1206314\n",
      "  1211265  1213784  1223003  1223306  1223543  1229929  1231853  1234554\n",
      "  1236837  1237674  1238021  1238464  1238633  1238915  1238948  1239232\n",
      "  1239347  1239967  1240337  1253505  1255384  1257200  1257648  1257815\n",
      "  1257938  1258549  1258556  1266154  1272039  1277629  1293439  1294562\n",
      "  1295186   527337   558538   566509   608157   677910   734111   780555\n",
      "   827627  1049837  1058849  1193544  1201870  1202253  1227081  1230994\n",
      "  1238410  1246562  1257470  1259008  1266124  1267898  1268313  1268804\n",
      "  1280258  1293966  1296572  1298416  1299596  1181685  1211594  1238777\n",
      "  1257608  1269574  1277145  1287282  1296025  1296263  1296593  1299161\n",
      "  1301945  1302428  1318169   474162   787451  1002025  1070522  1073960\n",
      "  1076352  1084139  1119189  1133991  1142706  1155967  1170945  1181567\n",
      "  1204558  1217952  1224565  1238186  1253917  1265899  1268766  1277268\n",
      "  1286943  1295508  1297327  1297522  1298360  1299924  1299994  1304595\n",
      "  1306282  1313325  1320077  1320304  1330439   333093   369565   412300\n",
      "   672113   749653   769612   807657  8233704   837480   867392   869828\n",
      "  1043068  1056171  1061990  1113061  1135090  1145420  1158157  1171578\n",
      "  1174841  1184586  1186936  1197527  1222464  1240603  1241035  1287971\n",
      "  1289391  1306339  1313658  1313982  1321264  1321321  1321348  1321931\n",
      "  1321942  1328331  1328755  1331405  1331412  1333104  1334071  1343068\n",
      "  1343374  1344121   142932   183936   324382   378275   690557   695091\n",
      "   695219   824249   871549   878358  1107684  1115762  1217717  1239420\n",
      "  1254538  1261751  1268275  1272166  1294261  1295529  1298484  1311875\n",
      "  1315506  1320141  1325309  1333063  1333495  1334659  1336798  1344449\n",
      "  1350568  1352663   188336   352431   353098   557583   636375   736150\n",
      "   803531  1016634  1031608  1041043  1042252  1057067  1073836  1083817\n",
      "  1096352  1140597  1149548  1174009  1183596  1190386  1190546  1213273\n",
      "  1218982  1225382  1235807  1253955  1257366  1260659  1268952  1275807\n",
      "  1277792  1285722  1288608  1290203  1294413  1303489  1311033  1311108\n",
      "  1315807  1318671  1319609  1323477  1324572  1324681  1325159  1326892\n",
      "  1330361  1333877  1334015  1334667  1339781 13454352  1345452  1345593\n",
      "  1347749  1347943  1348851  1350319  1350423  1352848  1353092  1354840\n",
      "  1355260  1365075  1365328  1368267  1368273  1368882  1369821  1371026\n",
      "  1371920   466906   534555   536708   566346   603148   654546   714039\n",
      "   763235   776715   841769   888820   897471] \n",
      "\n",
      "clump 열의 unique는???  \n",
      " [ 5  3  6  4  8  1  2  7 10  9] \n",
      "\n",
      "cell_size 열의 unique는???  \n",
      " [ 1  4  8 10  2  3  7  5  6  9] \n",
      "\n",
      "cell_shape 열의 unique는???  \n",
      " [ 1  4  8 10  2  3  5  6  7  9] \n",
      "\n",
      "adhesion 열의 unique는???  \n",
      " [ 1  5  3  8 10  4  6  2  9  7] \n",
      "\n",
      "epithlial 열의 unique는???  \n",
      " [ 2  7  3  1  6  4  5  8 10  9] \n",
      "\n",
      "bare_nuclei 열의 unique는???  \n",
      " ['1' '10' '2' '4' '3' '9' '7' '?' '5' '8' '6'] \n",
      "\n",
      "chromatin 열의 unique는???  \n",
      " [ 3  9  1  2  4  5  7  8  6 10] \n",
      "\n",
      "normal_nucleoli 열의 unique는???  \n",
      " [ 1  2  7  4  5  3 10  6  9  8] \n",
      "\n",
      "mitoses 열의 unique는???  \n",
      " [ 1  5  4  2  3  7 10  8  6] \n",
      "\n",
      "class 열의 unique는???  \n",
      " [2 4] \n",
      "\n"
     ]
    }
   ],
   "source": [
    "# 진짜 결측치가 없는지 확인하기\n",
    "\n",
    "for i in df.columns:\n",
    "    print(i,\"열의 unique는???  \\n\",df[i].unique(),\"\\n\")"
   ]
  },
  {
   "cell_type": "markdown",
   "id": "63e6a88c",
   "metadata": {},
   "source": [
    "**bare_nuclei열**에서 ? 결측치를 발견함!"
   ]
  },
  {
   "cell_type": "markdown",
   "id": "6aad0b85",
   "metadata": {},
   "source": [
    "# 데이터 전처리"
   ]
  },
  {
   "cell_type": "markdown",
   "id": "84988f33",
   "metadata": {},
   "source": [
    "## id 삭제하기"
   ]
  },
  {
   "cell_type": "code",
   "execution_count": 95,
   "id": "a00f32fc",
   "metadata": {},
   "outputs": [],
   "source": [
    "tmp = df.copy()"
   ]
  },
  {
   "cell_type": "code",
   "execution_count": 96,
   "id": "0834a96d",
   "metadata": {},
   "outputs": [],
   "source": [
    "# 필요없는 열 삭제하기\n",
    "tmp.drop(\"id\", axis=1, inplace=True)"
   ]
  },
  {
   "cell_type": "code",
   "execution_count": 97,
   "id": "130c5226",
   "metadata": {},
   "outputs": [
    {
     "data": {
      "text/html": [
       "<div>\n",
       "<style scoped>\n",
       "    .dataframe tbody tr th:only-of-type {\n",
       "        vertical-align: middle;\n",
       "    }\n",
       "\n",
       "    .dataframe tbody tr th {\n",
       "        vertical-align: top;\n",
       "    }\n",
       "\n",
       "    .dataframe thead th {\n",
       "        text-align: right;\n",
       "    }\n",
       "</style>\n",
       "<table border=\"1\" class=\"dataframe\">\n",
       "  <thead>\n",
       "    <tr style=\"text-align: right;\">\n",
       "      <th></th>\n",
       "      <th>clump</th>\n",
       "      <th>cell_size</th>\n",
       "      <th>cell_shape</th>\n",
       "      <th>adhesion</th>\n",
       "      <th>epithlial</th>\n",
       "      <th>bare_nuclei</th>\n",
       "      <th>chromatin</th>\n",
       "      <th>normal_nucleoli</th>\n",
       "      <th>mitoses</th>\n",
       "      <th>class</th>\n",
       "    </tr>\n",
       "  </thead>\n",
       "  <tbody>\n",
       "    <tr>\n",
       "      <th>0</th>\n",
       "      <td>5</td>\n",
       "      <td>1</td>\n",
       "      <td>1</td>\n",
       "      <td>1</td>\n",
       "      <td>2</td>\n",
       "      <td>1</td>\n",
       "      <td>3</td>\n",
       "      <td>1</td>\n",
       "      <td>1</td>\n",
       "      <td>2</td>\n",
       "    </tr>\n",
       "    <tr>\n",
       "      <th>1</th>\n",
       "      <td>5</td>\n",
       "      <td>4</td>\n",
       "      <td>4</td>\n",
       "      <td>5</td>\n",
       "      <td>7</td>\n",
       "      <td>10</td>\n",
       "      <td>3</td>\n",
       "      <td>2</td>\n",
       "      <td>1</td>\n",
       "      <td>2</td>\n",
       "    </tr>\n",
       "    <tr>\n",
       "      <th>2</th>\n",
       "      <td>3</td>\n",
       "      <td>1</td>\n",
       "      <td>1</td>\n",
       "      <td>1</td>\n",
       "      <td>2</td>\n",
       "      <td>2</td>\n",
       "      <td>3</td>\n",
       "      <td>1</td>\n",
       "      <td>1</td>\n",
       "      <td>2</td>\n",
       "    </tr>\n",
       "    <tr>\n",
       "      <th>3</th>\n",
       "      <td>6</td>\n",
       "      <td>8</td>\n",
       "      <td>8</td>\n",
       "      <td>1</td>\n",
       "      <td>3</td>\n",
       "      <td>4</td>\n",
       "      <td>3</td>\n",
       "      <td>7</td>\n",
       "      <td>1</td>\n",
       "      <td>2</td>\n",
       "    </tr>\n",
       "    <tr>\n",
       "      <th>4</th>\n",
       "      <td>4</td>\n",
       "      <td>1</td>\n",
       "      <td>1</td>\n",
       "      <td>3</td>\n",
       "      <td>2</td>\n",
       "      <td>1</td>\n",
       "      <td>3</td>\n",
       "      <td>1</td>\n",
       "      <td>1</td>\n",
       "      <td>2</td>\n",
       "    </tr>\n",
       "  </tbody>\n",
       "</table>\n",
       "</div>"
      ],
      "text/plain": [
       "   clump  cell_size  cell_shape  adhesion  epithlial bare_nuclei  chromatin  \\\n",
       "0      5          1           1         1          2           1          3   \n",
       "1      5          4           4         5          7          10          3   \n",
       "2      3          1           1         1          2           2          3   \n",
       "3      6          8           8         1          3           4          3   \n",
       "4      4          1           1         3          2           1          3   \n",
       "\n",
       "   normal_nucleoli  mitoses  class  \n",
       "0                1        1      2  \n",
       "1                2        1      2  \n",
       "2                1        1      2  \n",
       "3                7        1      2  \n",
       "4                1        1      2  "
      ]
     },
     "execution_count": 97,
     "metadata": {},
     "output_type": "execute_result"
    }
   ],
   "source": [
    "tmp.head()"
   ]
  },
  {
   "cell_type": "markdown",
   "id": "2d822038",
   "metadata": {},
   "source": [
    "## bare_nuclei - 결측치 처리 & 형변환하기"
   ]
  },
  {
   "cell_type": "code",
   "execution_count": 98,
   "id": "d780c31e",
   "metadata": {},
   "outputs": [
    {
     "data": {
      "text/plain": [
       "array(['1', '10', '2', '4', '3', '9', '7', '?', '5', '8', '6'],\n",
       "      dtype=object)"
      ]
     },
     "execution_count": 98,
     "metadata": {},
     "output_type": "execute_result"
    }
   ],
   "source": [
    "#위에서 봤지만, 한번더 unique() 살펴보기\n",
    "\n",
    "tmp.bare_nuclei.unique()"
   ]
  },
  {
   "cell_type": "markdown",
   "id": "0ac7e1ae",
   "metadata": {},
   "source": [
    "### 결측치 처리"
   ]
  },
  {
   "cell_type": "code",
   "execution_count": 99,
   "id": "1faae393",
   "metadata": {},
   "outputs": [
    {
     "data": {
      "text/plain": [
       "16"
      ]
     },
     "execution_count": 99,
     "metadata": {},
     "output_type": "execute_result"
    }
   ],
   "source": [
    "tmp.bare_nuclei.replace(\"?\",np.nan,inplace=True)\n",
    "tmp.bare_nuclei.isnull().sum()"
   ]
  },
  {
   "cell_type": "code",
   "execution_count": 100,
   "id": "1bb95fc5",
   "metadata": {},
   "outputs": [
    {
     "name": "stdout",
     "output_type": "stream",
     "text": [
      "전체 데이터 수 중 결측치가 차지하는 비율은?  2.28898426323319 %\n"
     ]
    }
   ],
   "source": [
    "print('전체 데이터 수 중 결측치가 차지하는 비율은? ',tmp.bare_nuclei.isnull().sum()/len(tmp)*100,\"%\")"
   ]
  },
  {
   "cell_type": "code",
   "execution_count": 101,
   "id": "d1a8fbe3",
   "metadata": {},
   "outputs": [
    {
     "data": {
      "text/plain": [
       "<AxesSubplot:ylabel='Density'>"
      ]
     },
     "execution_count": 101,
     "metadata": {},
     "output_type": "execute_result"
    },
    {
     "data": {
      "image/png": "[encoded data removed]",
      "text/plain": [
       "<Figure size 432x288 with 1 Axes>"
      ]
     },
     "metadata": {
      "needs_background": "light"
     },
     "output_type": "display_data"
    }
   ],
   "source": [
    "# 결측치가 아닌 것들의 데이터는 어떤 그래프를 그릴까??\n",
    "\n",
    "sns.distplot(tmp[tmp.bare_nuclei.notnull()].astype(float))\n",
    "\n",
    "# 한쪽으로 편향된 걸 볼수있다! 그래서 평균값으로 "
   ]
  },
  {
   "cell_type": "code",
   "execution_count": 102,
   "id": "e94d2e5c",
   "metadata": {},
   "outputs": [
    {
     "data": {
      "text/plain": [
       "3.5446559297218156"
      ]
     },
     "execution_count": 102,
     "metadata": {},
     "output_type": "execute_result"
    }
   ],
   "source": [
    "# 평균값\n",
    "tmp[tmp.bare_nuclei.notnull()].astype(float).bare_nuclei.mean()"
   ]
  },
  {
   "cell_type": "code",
   "execution_count": 103,
   "id": "2235f5fa",
   "metadata": {},
   "outputs": [
    {
     "data": {
      "text/plain": [
       "1.0"
      ]
     },
     "execution_count": 103,
     "metadata": {},
     "output_type": "execute_result"
    }
   ],
   "source": [
    "# 중앙값\n",
    "tmp[tmp.bare_nuclei.notnull()].astype(float).bare_nuclei.median()"
   ]
  },
  {
   "cell_type": "code",
   "execution_count": 104,
   "id": "0aa3f53a",
   "metadata": {},
   "outputs": [
    {
     "data": {
      "text/plain": [
       "1.0"
      ]
     },
     "execution_count": 104,
     "metadata": {},
     "output_type": "execute_result"
    }
   ],
   "source": [
    "# 최빈값\n",
    "tmp[tmp.bare_nuclei.notnull()].astype(float).bare_nuclei.mode()[0]"
   ]
  },
  {
   "cell_type": "code",
   "execution_count": 105,
   "id": "eedfa83a",
   "metadata": {},
   "outputs": [],
   "source": [
    "# 최빈값으로 결측치를 채워보자!!\n",
    "\n",
    "#최빈값\n",
    "freq = tmp[tmp.bare_nuclei.notnull()].astype(float).bare_nuclei.mode()[0]\n",
    "\n",
    "tmp.bare_nuclei.replace(np.nan, int(freq), inplace=True)"
   ]
  },
  {
   "cell_type": "code",
   "execution_count": 106,
   "id": "5af33a39",
   "metadata": {},
   "outputs": [
    {
     "data": {
      "text/plain": [
       "clump              0\n",
       "cell_size          0\n",
       "cell_shape         0\n",
       "adhesion           0\n",
       "epithlial          0\n",
       "bare_nuclei        0\n",
       "chromatin          0\n",
       "normal_nucleoli    0\n",
       "mitoses            0\n",
       "class              0\n",
       "dtype: int64"
      ]
     },
     "execution_count": 106,
     "metadata": {},
     "output_type": "execute_result"
    }
   ],
   "source": [
    "tmp.isnull().sum()"
   ]
  },
  {
   "cell_type": "markdown",
   "id": "a9327cbd",
   "metadata": {},
   "source": [
    "### 형변환하기"
   ]
  },
  {
   "cell_type": "code",
   "execution_count": 107,
   "id": "31e7d297",
   "metadata": {},
   "outputs": [
    {
     "data": {
      "text/plain": [
       "array(['1', '10', '2', '4', '3', '9', '7', 1, '5', '8', '6'], dtype=object)"
      ]
     },
     "execution_count": 107,
     "metadata": {},
     "output_type": "execute_result"
    }
   ],
   "source": [
    "tmp.bare_nuclei.unique()"
   ]
  },
  {
   "cell_type": "code",
   "execution_count": 109,
   "id": "82173318",
   "metadata": {},
   "outputs": [],
   "source": [
    "# 형변환하기\n",
    "tmp.bare_nuclei = tmp.bare_nuclei.astype(int)"
   ]
  },
  {
   "cell_type": "code",
   "execution_count": 112,
   "id": "4fba1228",
   "metadata": {},
   "outputs": [
    {
     "data": {
      "text/plain": [
       "array([ 1, 10,  2,  4,  3,  9,  7,  5,  8,  6])"
      ]
     },
     "execution_count": 112,
     "metadata": {},
     "output_type": "execute_result"
    }
   ],
   "source": [
    "tmp.bare_nuclei.unique()"
   ]
  },
  {
   "cell_type": "markdown",
   "id": "a986a435",
   "metadata": {},
   "source": [
    "# X/ y 선택하기"
   ]
  },
  {
   "cell_type": "code",
   "execution_count": 117,
   "id": "275b4624",
   "metadata": {},
   "outputs": [],
   "source": [
    "# 독립변수\n",
    "X= tmp.drop(\"class\", axis=1)\n",
    "\n",
    "# 종속변수\n",
    "y= tmp[\"class\"]"
   ]
  },
  {
   "cell_type": "markdown",
   "id": "db4309aa",
   "metadata": {},
   "source": [
    "# 정규화시키기(Standard Scaler)"
   ]
  },
  {
   "cell_type": "code",
   "execution_count": 120,
   "id": "d4178e5d",
   "metadata": {},
   "outputs": [],
   "source": [
    "from sklearn.preprocessing import StandardScaler\n",
    "\n",
    "st= StandardScaler()\n",
    "\n",
    "X = st.fit_transform(X)"
   ]
  },
  {
   "cell_type": "markdown",
   "id": "19ffefb1",
   "metadata": {},
   "source": [
    "# Train / Test 나누기"
   ]
  },
  {
   "cell_type": "code",
   "execution_count": 121,
   "id": "9ace09f1",
   "metadata": {},
   "outputs": [],
   "source": [
    "from sklearn.model_selection import train_test_split\n",
    "\n",
    "X_train, X_test, y_train, y_test= train_test_split(X,y,\n",
    "                                                  test_size=0.2,\n",
    "                                                  random_state=10)"
   ]
  },
  {
   "cell_type": "code",
   "execution_count": 122,
   "id": "52b3b47a",
   "metadata": {},
   "outputs": [
    {
     "name": "stdout",
     "output_type": "stream",
     "text": [
      "train data 개수:  (559, 9)\n",
      "test data 개수:  (140, 9)\n"
     ]
    }
   ],
   "source": [
    "print('train data 개수: ', X_train.shape)\n",
    "print('test data 개수: ', X_test.shape)"
   ]
  },
  {
   "cell_type": "markdown",
   "id": "00eacc24",
   "metadata": {},
   "source": [
    "# 의사결정나무 모형"
   ]
  },
  {
   "cell_type": "code",
   "execution_count": 124,
   "id": "a2a31915",
   "metadata": {},
   "outputs": [],
   "source": [
    "# entropy(다른 종류의 값을 섞여있는 정도를 나타내기)\n",
    "\n",
    "from sklearn.tree import DecisionTreeClassifier\n",
    "\n",
    "tree= DecisionTreeClassifier(criterion='entropy',\n",
    "                            max_depth=5)"
   ]
  },
  {
   "cell_type": "code",
   "execution_count": 125,
   "id": "861dd239",
   "metadata": {},
   "outputs": [
    {
     "data": {
      "text/plain": [
       "DecisionTreeClassifier(criterion='entropy', max_depth=5)"
      ]
     },
     "execution_count": 125,
     "metadata": {},
     "output_type": "execute_result"
    }
   ],
   "source": [
    "tree.fit(X_train,y_train)"
   ]
  },
  {
   "cell_type": "code",
   "execution_count": 127,
   "id": "a306d633",
   "metadata": {},
   "outputs": [],
   "source": [
    "y_hat= tree.predict(X_test)"
   ]
  },
  {
   "cell_type": "code",
   "execution_count": 128,
   "id": "824e7eda",
   "metadata": {},
   "outputs": [
    {
     "data": {
      "text/plain": [
       "array([4, 2, 2, 2, 2, 4, 2, 2, 4, 2], dtype=int64)"
      ]
     },
     "execution_count": 128,
     "metadata": {},
     "output_type": "execute_result"
    }
   ],
   "source": [
    "# 예측값\n",
    "\n",
    "y_hat[:10]"
   ]
  },
  {
   "cell_type": "code",
   "execution_count": 130,
   "id": "6f7468d9",
   "metadata": {},
   "outputs": [
    {
     "data": {
      "text/plain": [
       "array([4, 2, 2, 2, 2, 4, 2, 2, 4, 2], dtype=int64)"
      ]
     },
     "execution_count": 130,
     "metadata": {},
     "output_type": "execute_result"
    }
   ],
   "source": [
    "# 실제값\n",
    "\n",
    "y_test.values[:10]"
   ]
  },
  {
   "cell_type": "markdown",
   "id": "c633b1e0",
   "metadata": {},
   "source": [
    "# 모형성능평가"
   ]
  },
  {
   "cell_type": "markdown",
   "id": "a50dc15b",
   "metadata": {},
   "source": [
    "## Confusion Matrix"
   ]
  },
  {
   "cell_type": "code",
   "execution_count": 131,
   "id": "59ffffe8",
   "metadata": {},
   "outputs": [],
   "source": [
    "from sklearn.metrics import confusion_matrix\n",
    "\n",
    "tree_matrix = confusion_matrix(y_test, y_hat)"
   ]
  },
  {
   "cell_type": "code",
   "execution_count": 144,
   "id": "606db63f",
   "metadata": {},
   "outputs": [
    {
     "data": {
      "text/plain": [
       "array([[94,  4],\n",
       "       [ 4, 38]], dtype=int64)"
      ]
     },
     "execution_count": 144,
     "metadata": {},
     "output_type": "execute_result"
    }
   ],
   "source": [
    "tree_matrix"
   ]
  },
  {
   "cell_type": "code",
   "execution_count": 156,
   "id": "9847c9b8",
   "metadata": {},
   "outputs": [],
   "source": [
    "labels = ['TN','FP','FN','TP']\n",
    "labels = np.array(labels).reshape(2,2)"
   ]
  },
  {
   "cell_type": "code",
   "execution_count": 155,
   "id": "cf1a0503",
   "metadata": {},
   "outputs": [
    {
     "data": {
      "text/plain": [
       "array([['TN', 'FP'],\n",
       "       ['FN', 'TP']], dtype='<U2')"
      ]
     },
     "execution_count": 155,
     "metadata": {},
     "output_type": "execute_result"
    },
    {
     "data": {
      "image/png": "[encoded data removed]",
      "text/plain": [
       "<Figure size 432x288 with 2 Axes>"
      ]
     },
     "metadata": {
      "needs_background": "light"
     },
     "output_type": "display_data"
    }
   ],
   "source": [
    "sns.heatmap(data=tree_matrix, annot=True,\n",
    "            annot_kws={'size':20},\n",
    "           fmt=\"\")\n",
    "labels"
   ]
  },
  {
   "cell_type": "markdown",
   "id": "3e184e2a",
   "metadata": {},
   "source": [
    "# 평가지표 계산"
   ]
  },
  {
   "cell_type": "code",
   "execution_count": 160,
   "id": "c99f0e60",
   "metadata": {},
   "outputs": [
    {
     "name": "stdout",
     "output_type": "stream",
     "text": [
      "              precision    recall  f1-score   support\n",
      "\n",
      "           2       0.96      0.96      0.96        98\n",
      "           4       0.90      0.90      0.90        42\n",
      "\n",
      "    accuracy                           0.94       140\n",
      "   macro avg       0.93      0.93      0.93       140\n",
      "weighted avg       0.94      0.94      0.94       140\n",
      "\n"
     ]
    }
   ],
   "source": [
    "from sklearn.metrics import classification_report\n",
    "\n",
    "tree_report = classification_report(y_test, y_hat)\n",
    "print(tree_report)"
   ]
  },
  {
   "cell_type": "markdown",
   "id": "420b00c2",
   "metadata": {},
   "source": [
    "양성(2) / 악성(4)\n",
    "오호! 0.93~0.94 정도의 결과가 나오다니! "
   ]
  }
 ],
 "metadata": {
  "kernelspec": {
   "display_name": "Python 3 (ipykernel)",
   "language": "python",
   "name": "python3"
  },
  "language_info": {
   "codemirror_mode": {
    "name": "ipython",
    "version": 3
   },
   "file_extension": ".py",
   "mimetype": "text/x-python",
   "name": "python",
   "nbconvert_exporter": "python",
   "pygments_lexer": "ipython3",
   "version": "3.9.7"
  },
  "toc": {
   "base_numbering": 1,
   "nav_menu": {},
   "number_sections": true,
   "sideBar": true,
   "skip_h1_title": false,
   "title_cell": "Table of Contents",
   "title_sidebar": "Contents",
   "toc_cell": false,
   "toc_position": {},
   "toc_section_display": true,
   "toc_window_display": true
  }
 },
 "nbformat": 4,
 "nbformat_minor": 5
}
